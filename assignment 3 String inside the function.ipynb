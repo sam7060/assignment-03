{
 "cells": [
  {
   "cell_type": "code",
   "execution_count": 4,
   "id": "235d3b04",
   "metadata": {},
   "outputs": [
    {
     "data": {
      "text/plain": [
       "'dcba4321'"
      ]
     },
     "execution_count": 4,
     "metadata": {},
     "output_type": "execute_result"
    }
   ],
   "source": [
    "def my_mobile(x):\n",
    "    return x[::-1]\n",
    "my_sam=my_mobile(\"1234abcd\")\n",
    "my_sam"
   ]
  },
  {
   "cell_type": "code",
   "execution_count": null,
   "id": "23e2dfa4",
   "metadata": {},
   "outputs": [],
   "source": []
  }
 ],
 "metadata": {
  "kernelspec": {
   "display_name": "Python 3 (ipykernel)",
   "language": "python",
   "name": "python3"
  },
  "language_info": {
   "codemirror_mode": {
    "name": "ipython",
    "version": 3
   },
   "file_extension": ".py",
   "mimetype": "text/x-python",
   "name": "python",
   "nbconvert_exporter": "python",
   "pygments_lexer": "ipython3",
   "version": "3.10.4"
  }
 },
 "nbformat": 4,
 "nbformat_minor": 5
}
